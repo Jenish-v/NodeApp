{
  "nbformat": 4,
  "nbformat_minor": 0,
  "metadata": {
    "colab": {
      "provenance": []
    },
    "kernelspec": {
      "name": "python3",
      "display_name": "Python 3"
    },
    "language_info": {
      "name": "python"
    },
    "widgets": {
      "application/vnd.jupyter.widget-state+json": {
        "b0f15ef459aa44ea848c13dddb9f5a51": {
          "model_module": "@jupyter-widgets/controls",
          "model_name": "TextareaModel",
          "model_module_version": "1.5.0",
          "state": {
            "_dom_classes": [],
            "_model_module": "@jupyter-widgets/controls",
            "_model_module_version": "1.5.0",
            "_model_name": "TextareaModel",
            "_view_count": null,
            "_view_module": "@jupyter-widgets/controls",
            "_view_module_version": "1.5.0",
            "_view_name": "TextareaView",
            "continuous_update": true,
            "description": "Script:",
            "description_tooltip": null,
            "disabled": false,
            "layout": "IPY_MODEL_e62bf74d62e84949a14301b08d97204b",
            "placeholder": "Enter your script here",
            "rows": null,
            "style": "IPY_MODEL_6c65d2b4917d4f49bcc2ee1c7ed8be64",
            "value": "Hello there!"
          }
        },
        "e62bf74d62e84949a14301b08d97204b": {
          "model_module": "@jupyter-widgets/base",
          "model_name": "LayoutModel",
          "model_module_version": "1.2.0",
          "state": {
            "_model_module": "@jupyter-widgets/base",
            "_model_module_version": "1.2.0",
            "_model_name": "LayoutModel",
            "_view_count": null,
            "_view_module": "@jupyter-widgets/base",
            "_view_module_version": "1.2.0",
            "_view_name": "LayoutView",
            "align_content": null,
            "align_items": null,
            "align_self": null,
            "border": null,
            "bottom": null,
            "display": null,
            "flex": null,
            "flex_flow": null,
            "grid_area": null,
            "grid_auto_columns": null,
            "grid_auto_flow": null,
            "grid_auto_rows": null,
            "grid_column": null,
            "grid_gap": null,
            "grid_row": null,
            "grid_template_areas": null,
            "grid_template_columns": null,
            "grid_template_rows": null,
            "height": "200px",
            "justify_content": null,
            "justify_items": null,
            "left": null,
            "margin": null,
            "max_height": null,
            "max_width": null,
            "min_height": null,
            "min_width": null,
            "object_fit": null,
            "object_position": null,
            "order": null,
            "overflow": null,
            "overflow_x": null,
            "overflow_y": null,
            "padding": null,
            "right": null,
            "top": null,
            "visibility": null,
            "width": "80%"
          }
        },
        "6c65d2b4917d4f49bcc2ee1c7ed8be64": {
          "model_module": "@jupyter-widgets/controls",
          "model_name": "DescriptionStyleModel",
          "model_module_version": "1.5.0",
          "state": {
            "_model_module": "@jupyter-widgets/controls",
            "_model_module_version": "1.5.0",
            "_model_name": "DescriptionStyleModel",
            "_view_count": null,
            "_view_module": "@jupyter-widgets/base",
            "_view_module_version": "1.2.0",
            "_view_name": "StyleView",
            "description_width": ""
          }
        },
        "761ec86a2eaf4b5fb1b964cc8954ba4a": {
          "model_module": "@jupyter-widgets/controls",
          "model_name": "ButtonModel",
          "model_module_version": "1.5.0",
          "state": {
            "_dom_classes": [],
            "_model_module": "@jupyter-widgets/controls",
            "_model_module_version": "1.5.0",
            "_model_name": "ButtonModel",
            "_view_count": null,
            "_view_module": "@jupyter-widgets/controls",
            "_view_module_version": "1.5.0",
            "_view_name": "ButtonView",
            "button_style": "",
            "description": "Generate Video",
            "disabled": false,
            "icon": "",
            "layout": "IPY_MODEL_2560cbba9d504a97a36f8a1d022b9bd0",
            "style": "IPY_MODEL_f09095245fd54e4090ddd500f1e380b6",
            "tooltip": ""
          }
        },
        "2560cbba9d504a97a36f8a1d022b9bd0": {
          "model_module": "@jupyter-widgets/base",
          "model_name": "LayoutModel",
          "model_module_version": "1.2.0",
          "state": {
            "_model_module": "@jupyter-widgets/base",
            "_model_module_version": "1.2.0",
            "_model_name": "LayoutModel",
            "_view_count": null,
            "_view_module": "@jupyter-widgets/base",
            "_view_module_version": "1.2.0",
            "_view_name": "LayoutView",
            "align_content": null,
            "align_items": null,
            "align_self": null,
            "border": null,
            "bottom": null,
            "display": null,
            "flex": null,
            "flex_flow": null,
            "grid_area": null,
            "grid_auto_columns": null,
            "grid_auto_flow": null,
            "grid_auto_rows": null,
            "grid_column": null,
            "grid_gap": null,
            "grid_row": null,
            "grid_template_areas": null,
            "grid_template_columns": null,
            "grid_template_rows": null,
            "height": null,
            "justify_content": null,
            "justify_items": null,
            "left": null,
            "margin": null,
            "max_height": null,
            "max_width": null,
            "min_height": null,
            "min_width": null,
            "object_fit": null,
            "object_position": null,
            "order": null,
            "overflow": null,
            "overflow_x": null,
            "overflow_y": null,
            "padding": null,
            "right": null,
            "top": null,
            "visibility": null,
            "width": null
          }
        },
        "f09095245fd54e4090ddd500f1e380b6": {
          "model_module": "@jupyter-widgets/controls",
          "model_name": "ButtonStyleModel",
          "model_module_version": "1.5.0",
          "state": {
            "_model_module": "@jupyter-widgets/controls",
            "_model_module_version": "1.5.0",
            "_model_name": "ButtonStyleModel",
            "_view_count": null,
            "_view_module": "@jupyter-widgets/base",
            "_view_module_version": "1.2.0",
            "_view_name": "StyleView",
            "button_color": null,
            "font_weight": ""
          }
        },
        "2059dfa94b2b499eb76faa72a346ae0f": {
          "model_module": "@jupyter-widgets/controls",
          "model_name": "ButtonModel",
          "model_module_version": "1.5.0",
          "state": {
            "_dom_classes": [],
            "_model_module": "@jupyter-widgets/controls",
            "_model_module_version": "1.5.0",
            "_model_name": "ButtonModel",
            "_view_count": null,
            "_view_module": "@jupyter-widgets/controls",
            "_view_module_version": "1.5.0",
            "_view_name": "ButtonView",
            "button_style": "",
            "description": "Download Video",
            "disabled": false,
            "icon": "",
            "layout": "IPY_MODEL_d4242888074f4337a1812bd18535901d",
            "style": "IPY_MODEL_8befcd7005384d39b5a24f1bd345c610",
            "tooltip": ""
          }
        },
        "d4242888074f4337a1812bd18535901d": {
          "model_module": "@jupyter-widgets/base",
          "model_name": "LayoutModel",
          "model_module_version": "1.2.0",
          "state": {
            "_model_module": "@jupyter-widgets/base",
            "_model_module_version": "1.2.0",
            "_model_name": "LayoutModel",
            "_view_count": null,
            "_view_module": "@jupyter-widgets/base",
            "_view_module_version": "1.2.0",
            "_view_name": "LayoutView",
            "align_content": null,
            "align_items": null,
            "align_self": null,
            "border": null,
            "bottom": null,
            "display": null,
            "flex": null,
            "flex_flow": null,
            "grid_area": null,
            "grid_auto_columns": null,
            "grid_auto_flow": null,
            "grid_auto_rows": null,
            "grid_column": null,
            "grid_gap": null,
            "grid_row": null,
            "grid_template_areas": null,
            "grid_template_columns": null,
            "grid_template_rows": null,
            "height": null,
            "justify_content": null,
            "justify_items": null,
            "left": null,
            "margin": null,
            "max_height": null,
            "max_width": null,
            "min_height": null,
            "min_width": null,
            "object_fit": null,
            "object_position": null,
            "order": null,
            "overflow": null,
            "overflow_x": null,
            "overflow_y": null,
            "padding": null,
            "right": null,
            "top": null,
            "visibility": null,
            "width": null
          }
        },
        "8befcd7005384d39b5a24f1bd345c610": {
          "model_module": "@jupyter-widgets/controls",
          "model_name": "ButtonStyleModel",
          "model_module_version": "1.5.0",
          "state": {
            "_model_module": "@jupyter-widgets/controls",
            "_model_module_version": "1.5.0",
            "_model_name": "ButtonStyleModel",
            "_view_count": null,
            "_view_module": "@jupyter-widgets/base",
            "_view_module_version": "1.2.0",
            "_view_name": "StyleView",
            "button_color": null,
            "font_weight": ""
          }
        }
      }
    }
  },
  "cells": [
    {
      "cell_type": "code",
      "source": [
        "!pip install gTTS\n"
      ],
      "metadata": {
        "colab": {
          "base_uri": "https://localhost:8080/"
        },
        "id": "w1UMQqV-lclr",
        "outputId": "7f924dd1-a01c-43e1-a9cc-be649555ba69"
      },
      "execution_count": 1,
      "outputs": [
        {
          "output_type": "stream",
          "name": "stdout",
          "text": [
            "Collecting gTTS\n",
            "  Downloading gTTS-2.5.1-py3-none-any.whl (29 kB)\n",
            "Requirement already satisfied: requests<3,>=2.27 in /usr/local/lib/python3.10/dist-packages (from gTTS) (2.31.0)\n",
            "Requirement already satisfied: click<8.2,>=7.1 in /usr/local/lib/python3.10/dist-packages (from gTTS) (8.1.7)\n",
            "Requirement already satisfied: charset-normalizer<4,>=2 in /usr/local/lib/python3.10/dist-packages (from requests<3,>=2.27->gTTS) (3.3.2)\n",
            "Requirement already satisfied: idna<4,>=2.5 in /usr/local/lib/python3.10/dist-packages (from requests<3,>=2.27->gTTS) (3.6)\n",
            "Requirement already satisfied: urllib3<3,>=1.21.1 in /usr/local/lib/python3.10/dist-packages (from requests<3,>=2.27->gTTS) (2.0.7)\n",
            "Requirement already satisfied: certifi>=2017.4.17 in /usr/local/lib/python3.10/dist-packages (from requests<3,>=2.27->gTTS) (2024.2.2)\n",
            "Installing collected packages: gTTS\n",
            "Successfully installed gTTS-2.5.1\n"
          ]
        }
      ]
    },
    {
      "cell_type": "code",
      "source": [
        "from gtts import gTTS\n",
        "from IPython.display import Audio\n"
      ],
      "metadata": {
        "id": "HQB_ttUiqhdG"
      },
      "execution_count": 2,
      "outputs": []
    },
    {
      "cell_type": "code",
      "source": [
        "text = \"Hello, this is a text-to-speech conversion example.\"\n",
        "\n",
        "tts = gTTS(text=text, lang='en')\n",
        "tts.save(\"output.mp3\")\n"
      ],
      "metadata": {
        "id": "iDpKy1isqlGq"
      },
      "execution_count": 3,
      "outputs": []
    },
    {
      "cell_type": "code",
      "source": [
        "audio = Audio(\"output.mp3\")\n",
        "audio\n"
      ],
      "metadata": {
        "colab": {
          "base_uri": "https://localhost:8080/",
          "height": 73
        },
        "id": "TP7QWEUjqnXF",
        "outputId": "6470ebe7-ce6f-4b4a-9cb9-aa0ba8eef30a"
      },
      "execution_count": 4,
      "outputs": [
        {
          "output_type": "execute_result",
          "data": {
            "text/plain": [
              "<IPython.lib.display.Audio object>"
            ],
            "text/html": [
              "\n",
              "                <audio  controls=\"controls\" >\n",
              "                    <source src=\"data:audio/mpeg;base64,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\" type=\"audio/mpeg\" />\n",
              "                    Your browser does not support the audio element.\n",
              "                </audio>\n",
              "              "
            ]
          },
          "metadata": {},
          "execution_count": 4
        }
      ]
    },
    {
      "cell_type": "code",
      "source": [
        "from gtts import gTTS\n",
        "from IPython.display import Audio\n",
        "from textblob import TextBlob\n",
        "\n",
        "def determine_emotion(text):\n",
        "    # Analyze sentiment of the text\n",
        "    sentiment = TextBlob(text).sentiment.polarity\n",
        "\n",
        "    # Map sentiment polarity to emotion\n",
        "    if sentiment > 0.5:\n",
        "        return \"happy\"\n",
        "    elif sentiment < -0.5:\n",
        "        return \"sad\"\n",
        "    else:\n",
        "        return \"neutral\"\n",
        "\n",
        "def text_to_speech_with_emotion(text, lang='en'):\n",
        "    # Determine emotion based on text\n",
        "    emotion = determine_emotion(text)\n",
        "\n",
        "    # Define the dictionary of emotions with corresponding parameters\n",
        "    emotions = {\n",
        "        \"neutral\": {\"pitch\": 1.0, \"speed\": 1.0},\n",
        "        \"happy\": {\"pitch\": 1.2, \"speed\": 1.0},\n",
        "        \"sad\": {\"pitch\": 0.8, \"speed\": 1.0},\n",
        "        # Add more emotions and adjust parameters as needed\n",
        "    }\n",
        "\n",
        "    # Get parameters for the selected emotion\n",
        "    pitch = emotions[emotion][\"pitch\"]\n",
        "    speed = emotions[emotion][\"speed\"]\n",
        "\n",
        "    # Convert text to speech with specified emotion\n",
        "    tts = gTTS(text=text, lang=lang)\n",
        "    tts.speed = speed\n",
        "    tts.pitch = pitch\n",
        "    tts.save(\"output.mp3\")\n",
        "\n",
        "    # Play the audio\n",
        "    audio = Audio(\"output.mp3\")\n",
        "    return audio\n",
        "\n",
        "# Main loop\n",
        "while True:\n",
        "    # Take user input\n",
        "    text = input(\"Enter the text you want to convert to speech (or type 'reset' to enter new text, or 'exit' to quit): \")\n",
        "\n",
        "    # Check if user wants to reset or exit\n",
        "    if text.lower() == 'reset':\n",
        "        continue\n",
        "    elif text.lower() == 'exit':\n",
        "        print(\"Exiting program.\")\n",
        "        break\n",
        "\n",
        "\n",
        "    # Convert text to speech with detected emotion\n",
        "    audio = text_to_speech_with_emotion(text)\n",
        "    display(audio)\n"
      ],
      "metadata": {
        "colab": {
          "base_uri": "https://localhost:8080/"
        },
        "id": "zB5Mv6nJqqgR",
        "outputId": "83e422fc-2f48-416b-e639-74c0cedb0a50"
      },
      "execution_count": 18,
      "outputs": [
        {
          "output_type": "stream",
          "name": "stdout",
          "text": [
            "Enter the text you want to convert to speech (or type 'reset' to enter new text, or 'exit' to quit): exit\n",
            "Exiting program.\n"
          ]
        }
      ]
    },
    {
      "cell_type": "code",
      "source": [
        "\n"
      ],
      "metadata": {
        "colab": {
          "base_uri": "https://localhost:8080/",
          "height": 412
        },
        "id": "3Pue7i9nrgSU",
        "outputId": "fce4c4c2-e596-4d4c-a711-28fb41fc1e53"
      },
      "execution_count": 13,
      "outputs": [
        {
          "output_type": "error",
          "ename": "ValueError",
          "evalue": "Expected input data to be non-empty.",
          "traceback": [
            "\u001b[0;31m---------------------------------------------------------------------------\u001b[0m",
            "\u001b[0;31mValueError\u001b[0m                                Traceback (most recent call last)",
            "\u001b[0;32m<ipython-input-13-638d296debc3>\u001b[0m in \u001b[0;36m<cell line: 13>\u001b[0;34m()\u001b[0m\n\u001b[1;32m     11\u001b[0m \u001b[0;34m\u001b[0m\u001b[0m\n\u001b[1;32m     12\u001b[0m \u001b[0;31m# Evaluate model on the cleaned test set\u001b[0m\u001b[0;34m\u001b[0m\u001b[0;34m\u001b[0m\u001b[0m\n\u001b[0;32m---> 13\u001b[0;31m \u001b[0mloss\u001b[0m\u001b[0;34m,\u001b[0m \u001b[0maccuracy\u001b[0m \u001b[0;34m=\u001b[0m \u001b[0mmodel\u001b[0m\u001b[0;34m.\u001b[0m\u001b[0mevaluate\u001b[0m\u001b[0;34m(\u001b[0m\u001b[0mtest_padded\u001b[0m\u001b[0;34m,\u001b[0m \u001b[0mnp\u001b[0m\u001b[0;34m.\u001b[0m\u001b[0marray\u001b[0m\u001b[0;34m(\u001b[0m\u001b[0mtest_labels\u001b[0m\u001b[0;34m)\u001b[0m\u001b[0;34m)\u001b[0m\u001b[0;34m\u001b[0m\u001b[0;34m\u001b[0m\u001b[0m\n\u001b[0m\u001b[1;32m     14\u001b[0m \u001b[0mprint\u001b[0m\u001b[0;34m(\u001b[0m\u001b[0;34m\"Test Loss:\"\u001b[0m\u001b[0;34m,\u001b[0m \u001b[0mloss\u001b[0m\u001b[0;34m)\u001b[0m\u001b[0;34m\u001b[0m\u001b[0;34m\u001b[0m\u001b[0m\n\u001b[1;32m     15\u001b[0m \u001b[0mprint\u001b[0m\u001b[0;34m(\u001b[0m\u001b[0;34m\"Test Accuracy:\"\u001b[0m\u001b[0;34m,\u001b[0m \u001b[0maccuracy\u001b[0m\u001b[0;34m)\u001b[0m\u001b[0;34m\u001b[0m\u001b[0;34m\u001b[0m\u001b[0m\n",
            "\u001b[0;32m/usr/local/lib/python3.10/dist-packages/keras/src/utils/traceback_utils.py\u001b[0m in \u001b[0;36merror_handler\u001b[0;34m(*args, **kwargs)\u001b[0m\n\u001b[1;32m     68\u001b[0m             \u001b[0;31m# To get the full stack trace, call:\u001b[0m\u001b[0;34m\u001b[0m\u001b[0;34m\u001b[0m\u001b[0m\n\u001b[1;32m     69\u001b[0m             \u001b[0;31m# `tf.debugging.disable_traceback_filtering()`\u001b[0m\u001b[0;34m\u001b[0m\u001b[0;34m\u001b[0m\u001b[0m\n\u001b[0;32m---> 70\u001b[0;31m             \u001b[0;32mraise\u001b[0m \u001b[0me\u001b[0m\u001b[0;34m.\u001b[0m\u001b[0mwith_traceback\u001b[0m\u001b[0;34m(\u001b[0m\u001b[0mfiltered_tb\u001b[0m\u001b[0;34m)\u001b[0m \u001b[0;32mfrom\u001b[0m \u001b[0;32mNone\u001b[0m\u001b[0;34m\u001b[0m\u001b[0;34m\u001b[0m\u001b[0m\n\u001b[0m\u001b[1;32m     71\u001b[0m         \u001b[0;32mfinally\u001b[0m\u001b[0;34m:\u001b[0m\u001b[0;34m\u001b[0m\u001b[0;34m\u001b[0m\u001b[0m\n\u001b[1;32m     72\u001b[0m             \u001b[0;32mdel\u001b[0m \u001b[0mfiltered_tb\u001b[0m\u001b[0;34m\u001b[0m\u001b[0;34m\u001b[0m\u001b[0m\n",
            "\u001b[0;32m/usr/local/lib/python3.10/dist-packages/keras/src/engine/data_adapter.py\u001b[0m in \u001b[0;36m__init__\u001b[0;34m(self, x, y, sample_weight, batch_size, steps_per_epoch, initial_epoch, epochs, shuffle, class_weight, max_queue_size, workers, use_multiprocessing, model, steps_per_execution, distribute, pss_evaluation_shards)\u001b[0m\n\u001b[1;32m   1317\u001b[0m \u001b[0;34m\u001b[0m\u001b[0m\n\u001b[1;32m   1318\u001b[0m         \u001b[0;32mif\u001b[0m \u001b[0mself\u001b[0m\u001b[0;34m.\u001b[0m\u001b[0m_inferred_steps\u001b[0m \u001b[0;34m==\u001b[0m \u001b[0;36m0\u001b[0m\u001b[0;34m:\u001b[0m\u001b[0;34m\u001b[0m\u001b[0;34m\u001b[0m\u001b[0m\n\u001b[0;32m-> 1319\u001b[0;31m             \u001b[0;32mraise\u001b[0m \u001b[0mValueError\u001b[0m\u001b[0;34m(\u001b[0m\u001b[0;34m\"Expected input data to be non-empty.\"\u001b[0m\u001b[0;34m)\u001b[0m\u001b[0;34m\u001b[0m\u001b[0;34m\u001b[0m\u001b[0m\n\u001b[0m\u001b[1;32m   1320\u001b[0m \u001b[0;34m\u001b[0m\u001b[0m\n\u001b[1;32m   1321\u001b[0m     def _configure_dataset_and_inferred_steps(\n",
            "\u001b[0;31mValueError\u001b[0m: Expected input data to be non-empty."
          ]
        }
      ]
    },
    {
      "cell_type": "code",
      "source": [
        "from gtts import gTTS\n",
        "from IPython.display import Audio\n",
        "from PIL import Image, ImageDraw, ImageFont\n",
        "import os\n",
        "\n",
        "# Function to generate text-to-speech audio\n",
        "def generate_audio(script, filename='output.mp3', lang='en'):\n",
        "    tts = gTTS(text=script, lang=lang)\n",
        "    tts.save(filename)\n",
        "    return filename\n",
        "\n",
        "# Function to generate images from script using DALL-E or any other image generation AI tool\n",
        "def generate_images(script):\n",
        "    # Use DALL-E or any other image generation tool to generate images based on the script\n",
        "    # For simplicity, we'll create blank images with text overlay\n",
        "    images = []\n",
        "    for line in script.split('\\n'):\n",
        "        img = Image.new('RGB', (800, 600), color='white')\n",
        "        d = ImageDraw.Draw(img)\n",
        "        fnt = ImageFont.load_default()\n",
        "        d.text((10,10), line, fill=(0,0,0), font=fnt)\n",
        "        images.append(img)\n",
        "    return images\n",
        "\n",
        "# Function to combine audio and images into a video\n",
        "def combine_audio_and_video(audio_file, images, output_file='output_video.mp4'):\n",
        "    # Combine audio and images using MoviePy or OpenCV\n",
        "    # For simplicity, we'll save images and audio separately\n",
        "    images_dir = 'images'\n",
        "    os.makedirs(images_dir, exist_ok=True)\n",
        "    for i, img in enumerate(images):\n",
        "        img.save(os.path.join(images_dir, f'image_{i}.png'))\n",
        "    cmd = f'ffmpeg -y -r 1/3 -i {images_dir}/image_%d.png -i {audio_file} -c:a copy -shortest {output_file}'\n",
        "    os.system(cmd)\n",
        "    return output_file\n",
        "\n",
        "# Main function to generate video from script\n",
        "def generate_video_from_script(script):\n",
        "    audio_file = generate_audio(script)\n",
        "    images = generate_images(script)\n",
        "    output_file = combine_audio_and_video(audio_file, images)\n",
        "    return output_file\n",
        "\n",
        "# Example usage\n",
        "script = \"\"\"\n",
        "This is a sample script.\n",
        "We are testing the video generation process.\n",
        "Let's see how it turns out!\n",
        "\"\"\"\n",
        "video_file = generate_video_from_script(script)\n",
        "print(\"Video file generated:\", video_file)\n"
      ],
      "metadata": {
        "colab": {
          "base_uri": "https://localhost:8080/"
        },
        "id": "ZuW2aBfNtSxk",
        "outputId": "8aa78cb6-b5b0-45aa-dbd4-13af89c3170e"
      },
      "execution_count": 19,
      "outputs": [
        {
          "output_type": "stream",
          "name": "stdout",
          "text": [
            "Video file generated: output_video.mp4\n"
          ]
        }
      ]
    },
    {
      "cell_type": "code",
      "source": [
        "!pip install flask pyngrok\n"
      ],
      "metadata": {
        "colab": {
          "base_uri": "https://localhost:8080/"
        },
        "id": "ZbAYteVC2ufg",
        "outputId": "5082b8ae-fce2-4540-eb9f-dc39711bd44d"
      },
      "execution_count": 20,
      "outputs": [
        {
          "output_type": "stream",
          "name": "stdout",
          "text": [
            "Requirement already satisfied: flask in /usr/local/lib/python3.10/dist-packages (2.2.5)\n",
            "Collecting pyngrok\n",
            "  Downloading pyngrok-7.1.5-py3-none-any.whl (22 kB)\n",
            "Requirement already satisfied: Werkzeug>=2.2.2 in /usr/local/lib/python3.10/dist-packages (from flask) (3.0.1)\n",
            "Requirement already satisfied: Jinja2>=3.0 in /usr/local/lib/python3.10/dist-packages (from flask) (3.1.3)\n",
            "Requirement already satisfied: itsdangerous>=2.0 in /usr/local/lib/python3.10/dist-packages (from flask) (2.1.2)\n",
            "Requirement already satisfied: click>=8.0 in /usr/local/lib/python3.10/dist-packages (from flask) (8.1.7)\n",
            "Requirement already satisfied: PyYAML>=5.1 in /usr/local/lib/python3.10/dist-packages (from pyngrok) (6.0.1)\n",
            "Requirement already satisfied: MarkupSafe>=2.0 in /usr/local/lib/python3.10/dist-packages (from Jinja2>=3.0->flask) (2.1.5)\n",
            "Installing collected packages: pyngrok\n",
            "Successfully installed pyngrok-7.1.5\n"
          ]
        }
      ]
    },
    {
      "cell_type": "code",
      "source": [
        "from gtts import gTTS\n",
        "from IPython.display import display, Audio, Video\n",
        "from PIL import Image, ImageDraw, ImageFont\n",
        "import os\n",
        "import ipywidgets as widgets\n",
        "\n",
        "# Function to generate audio from script\n",
        "def generate_audio(script, filename='output.mp3', lang='en'):\n",
        "    tts = gTTS(text=script, lang=lang)\n",
        "    tts.save(filename)\n",
        "    return filename\n",
        "\n",
        "# Function to generate images from script\n",
        "def generate_images(script):\n",
        "    images = []\n",
        "    for line in script.split('\\n'):\n",
        "        img = Image.new('RGB', (800, 600), color='white')\n",
        "        d = ImageDraw.Draw(img)\n",
        "        fnt = ImageFont.load_default()\n",
        "        d.text((10,10), line, fill=(0,0,0), font=fnt)\n",
        "        images.append(img)\n",
        "    return images\n",
        "\n",
        "# Function to combine audio and images into a video\n",
        "def combine_audio_and_video(audio_file, images, output_file='output_video.mp4'):\n",
        "    images_dir = 'images'\n",
        "    os.makedirs(images_dir, exist_ok=True)\n",
        "    for i, img in enumerate(images):\n",
        "        img.save(os.path.join(images_dir, f'image_{i}.png'))\n",
        "    cmd = f'ffmpeg -y -r 1/3 -i {images_dir}/image_%d.png -i {audio_file} -c:a copy -shortest {output_file}'\n",
        "    os.system(cmd)\n",
        "    return output_file\n",
        "\n",
        "# Main function to generate video from script\n",
        "def generate_video_from_script(script):\n",
        "    audio_file = generate_audio(script)\n",
        "    images = generate_images(script)\n",
        "    output_file = combine_audio_and_video(audio_file, images)\n",
        "    return output_file\n",
        "    # Add this code inside the generate_images function\n",
        "\n",
        "# Function to generate video and display it\n",
        "\n",
        "# Add this code inside the generate_images function\n",
        "\n",
        "\n",
        "def generate_and_display_video(btn):\n",
        "    script = script_input.value\n",
        "    video_file = generate_video_from_script(script)\n",
        "    display(Video(video_file, embed=True))\n",
        "\n",
        "# Function to download the video\n",
        "def download_video(btn):\n",
        "    video_file = generate_video_from_script(script_input.value)\n",
        "    with open(video_file, 'rb') as f:\n",
        "        btn.value = f.read()\n",
        "        btn.description = 'Downloaded!'\n",
        "        btn.disabled = True\n",
        "\n",
        "# Create text input widget for script input\n",
        "script_input = widgets.Textarea(\n",
        "    value='',\n",
        "    placeholder='Enter your script here',\n",
        "    description='Script:',\n",
        "    disabled=False,\n",
        "    layout=widgets.Layout(width='80%', height='200px')\n",
        ")\n",
        "\n",
        "# Create buttons for generating and downloading video\n",
        "generate_button = widgets.Button(description='Generate Video')\n",
        "generate_button.on_click(generate_and_display_video)\n",
        "\n",
        "download_button = widgets.Button(description='Download Video')\n",
        "download_button.on_click(download_video)\n",
        "\n",
        "# Display widgets\n",
        "display(script_input)\n",
        "display(generate_button)\n",
        "display(download_button)\n"
      ],
      "metadata": {
        "colab": {
          "base_uri": "https://localhost:8080/",
          "height": 460,
          "referenced_widgets": [
            "b0f15ef459aa44ea848c13dddb9f5a51",
            "e62bf74d62e84949a14301b08d97204b",
            "6c65d2b4917d4f49bcc2ee1c7ed8be64",
            "761ec86a2eaf4b5fb1b964cc8954ba4a",
            "2560cbba9d504a97a36f8a1d022b9bd0",
            "f09095245fd54e4090ddd500f1e380b6",
            "2059dfa94b2b499eb76faa72a346ae0f",
            "d4242888074f4337a1812bd18535901d",
            "8befcd7005384d39b5a24f1bd345c610"
          ]
        },
        "id": "kyV_l_Lf3Vmb",
        "outputId": "e7ca3e17-5210-41eb-c555-97a7eb6b1c76"
      },
      "execution_count": 25,
      "outputs": [
        {
          "output_type": "display_data",
          "data": {
            "text/plain": [
              "Textarea(value='', description='Script:', layout=Layout(height='200px', width='80%'), placeholder='Enter your …"
            ],
            "application/vnd.jupyter.widget-view+json": {
              "version_major": 2,
              "version_minor": 0,
              "model_id": "b0f15ef459aa44ea848c13dddb9f5a51"
            }
          },
          "metadata": {}
        },
        {
          "output_type": "display_data",
          "data": {
            "text/plain": [
              "Button(description='Generate Video', style=ButtonStyle())"
            ],
            "application/vnd.jupyter.widget-view+json": {
              "version_major": 2,
              "version_minor": 0,
              "model_id": "761ec86a2eaf4b5fb1b964cc8954ba4a"
            }
          },
          "metadata": {}
        },
        {
          "output_type": "display_data",
          "data": {
            "text/plain": [
              "Button(description='Download Video', style=ButtonStyle())"
            ],
            "application/vnd.jupyter.widget-view+json": {
              "version_major": 2,
              "version_minor": 0,
              "model_id": "2059dfa94b2b499eb76faa72a346ae0f"
            }
          },
          "metadata": {}
        },
        {
          "output_type": "display_data",
          "data": {
            "text/plain": [
              "<IPython.core.display.Video object>"
            ],
            "text/html": [
              "<video controls  >\n",
              " <source src=\"data:video/mp4;base64,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\" type=\"video/mp4\">\n",
              " Your browser does not support the video tag.\n",
              " </video>"
            ]
          },
          "metadata": {}
        }
      ]
    },
    {
      "cell_type": "code",
      "source": [
        "!pip install moviepy\n"
      ],
      "metadata": {
        "colab": {
          "base_uri": "https://localhost:8080/"
        },
        "id": "zbYtiAl431rM",
        "outputId": "b6c2ac98-d43b-48e2-9158-978e61af359c"
      },
      "execution_count": 26,
      "outputs": [
        {
          "output_type": "stream",
          "name": "stdout",
          "text": [
            "Requirement already satisfied: moviepy in /usr/local/lib/python3.10/dist-packages (1.0.3)\n",
            "Requirement already satisfied: decorator<5.0,>=4.0.2 in /usr/local/lib/python3.10/dist-packages (from moviepy) (4.4.2)\n",
            "Requirement already satisfied: tqdm<5.0,>=4.11.2 in /usr/local/lib/python3.10/dist-packages (from moviepy) (4.66.2)\n",
            "Requirement already satisfied: requests<3.0,>=2.8.1 in /usr/local/lib/python3.10/dist-packages (from moviepy) (2.31.0)\n",
            "Requirement already satisfied: proglog<=1.0.0 in /usr/local/lib/python3.10/dist-packages (from moviepy) (0.1.10)\n",
            "Requirement already satisfied: numpy>=1.17.3 in /usr/local/lib/python3.10/dist-packages (from moviepy) (1.25.2)\n",
            "Requirement already satisfied: imageio<3.0,>=2.5 in /usr/local/lib/python3.10/dist-packages (from moviepy) (2.31.6)\n",
            "Requirement already satisfied: imageio-ffmpeg>=0.2.0 in /usr/local/lib/python3.10/dist-packages (from moviepy) (0.4.9)\n",
            "Requirement already satisfied: pillow<10.1.0,>=8.3.2 in /usr/local/lib/python3.10/dist-packages (from imageio<3.0,>=2.5->moviepy) (9.4.0)\n",
            "Requirement already satisfied: setuptools in /usr/local/lib/python3.10/dist-packages (from imageio-ffmpeg>=0.2.0->moviepy) (67.7.2)\n",
            "Requirement already satisfied: charset-normalizer<4,>=2 in /usr/local/lib/python3.10/dist-packages (from requests<3.0,>=2.8.1->moviepy) (3.3.2)\n",
            "Requirement already satisfied: idna<4,>=2.5 in /usr/local/lib/python3.10/dist-packages (from requests<3.0,>=2.8.1->moviepy) (3.6)\n",
            "Requirement already satisfied: urllib3<3,>=1.21.1 in /usr/local/lib/python3.10/dist-packages (from requests<3.0,>=2.8.1->moviepy) (2.0.7)\n",
            "Requirement already satisfied: certifi>=2017.4.17 in /usr/local/lib/python3.10/dist-packages (from requests<3.0,>=2.8.1->moviepy) (2024.2.2)\n"
          ]
        }
      ]
    },
    {
      "cell_type": "code",
      "source": [
        "!apt-get install imagemagick\n"
      ],
      "metadata": {
        "colab": {
          "base_uri": "https://localhost:8080/"
        },
        "id": "Hejy27lF-B9r",
        "outputId": "96a0ab75-48c2-4e28-a098-145683b26b08"
      },
      "execution_count": 28,
      "outputs": [
        {
          "output_type": "stream",
          "name": "stdout",
          "text": [
            "Reading package lists... Done\n",
            "Building dependency tree... Done\n",
            "Reading state information... Done\n",
            "The following additional packages will be installed:\n",
            "  fonts-droid-fallback fonts-noto-mono fonts-urw-base35 ghostscript gsfonts imagemagick-6-common\n",
            "  imagemagick-6.q16 libdjvulibre-text libdjvulibre21 libfftw3-double3 libgs9 libgs9-common libidn12\n",
            "  libijs-0.35 libjbig2dec0 libjxr-tools libjxr0 liblqr-1-0 libmagickcore-6.q16-6\n",
            "  libmagickcore-6.q16-6-extra libmagickwand-6.q16-6 libnetpbm10 libwmflite-0.2-7 netpbm\n",
            "  poppler-data\n",
            "Suggested packages:\n",
            "  fonts-noto fonts-freefont-otf | fonts-freefont-ttf fonts-texgyre ghostscript-x imagemagick-doc\n",
            "  autotrace cups-bsd | lpr | lprng enscript gimp gnuplot grads hp2xx html2ps libwmf-bin mplayer\n",
            "  povray radiance sane-utils texlive-base-bin transfig ufraw-batch libfftw3-bin libfftw3-dev\n",
            "  inkscape poppler-utils fonts-japanese-mincho | fonts-ipafont-mincho fonts-japanese-gothic\n",
            "  | fonts-ipafont-gothic fonts-arphic-ukai fonts-arphic-uming fonts-nanum\n",
            "The following NEW packages will be installed:\n",
            "  fonts-droid-fallback fonts-noto-mono fonts-urw-base35 ghostscript gsfonts imagemagick\n",
            "  imagemagick-6-common imagemagick-6.q16 libdjvulibre-text libdjvulibre21 libfftw3-double3 libgs9\n",
            "  libgs9-common libidn12 libijs-0.35 libjbig2dec0 libjxr-tools libjxr0 liblqr-1-0\n",
            "  libmagickcore-6.q16-6 libmagickcore-6.q16-6-extra libmagickwand-6.q16-6 libnetpbm10\n",
            "  libwmflite-0.2-7 netpbm poppler-data\n",
            "0 upgraded, 26 newly installed, 0 to remove and 38 not upgraded.\n",
            "Need to get 25.1 MB of archives.\n",
            "After this operation, 87.9 MB of additional disk space will be used.\n",
            "Get:1 http://archive.ubuntu.com/ubuntu jammy/main amd64 fonts-droid-fallback all 1:6.0.1r16-1.1build1 [1,805 kB]\n",
            "Get:2 http://archive.ubuntu.com/ubuntu jammy/main amd64 libfftw3-double3 amd64 3.3.8-2ubuntu8 [770 kB]\n",
            "Get:3 http://archive.ubuntu.com/ubuntu jammy/universe amd64 liblqr-1-0 amd64 0.4.2-2.1 [27.7 kB]\n",
            "Get:4 http://archive.ubuntu.com/ubuntu jammy-updates/universe amd64 imagemagick-6-common all 8:6.9.11.60+dfsg-1.3ubuntu0.22.04.3 [63.6 kB]\n",
            "Get:5 http://archive.ubuntu.com/ubuntu jammy-updates/universe amd64 libmagickcore-6.q16-6 amd64 8:6.9.11.60+dfsg-1.3ubuntu0.22.04.3 [1,788 kB]\n",
            "Get:6 http://archive.ubuntu.com/ubuntu jammy-updates/universe amd64 libmagickwand-6.q16-6 amd64 8:6.9.11.60+dfsg-1.3ubuntu0.22.04.3 [328 kB]\n",
            "Get:7 http://archive.ubuntu.com/ubuntu jammy/main amd64 poppler-data all 0.4.11-1 [2,171 kB]\n",
            "Get:8 http://archive.ubuntu.com/ubuntu jammy/main amd64 fonts-noto-mono all 20201225-1build1 [397 kB]\n",
            "Get:9 http://archive.ubuntu.com/ubuntu jammy/main amd64 fonts-urw-base35 all 20200910-1 [6,367 kB]\n",
            "Get:10 http://archive.ubuntu.com/ubuntu jammy-updates/main amd64 libgs9-common all 9.55.0~dfsg1-0ubuntu5.6 [751 kB]\n",
            "Get:11 http://archive.ubuntu.com/ubuntu jammy-updates/main amd64 libidn12 amd64 1.38-4ubuntu1 [60.0 kB]\n",
            "Get:12 http://archive.ubuntu.com/ubuntu jammy/main amd64 libijs-0.35 amd64 0.35-15build2 [16.5 kB]\n",
            "Get:13 http://archive.ubuntu.com/ubuntu jammy/main amd64 libjbig2dec0 amd64 0.19-3build2 [64.7 kB]\n",
            "Get:14 http://archive.ubuntu.com/ubuntu jammy-updates/main amd64 libgs9 amd64 9.55.0~dfsg1-0ubuntu5.6 [5,031 kB]\n",
            "Get:15 http://archive.ubuntu.com/ubuntu jammy-updates/main amd64 ghostscript amd64 9.55.0~dfsg1-0ubuntu5.6 [49.4 kB]\n",
            "Get:16 http://archive.ubuntu.com/ubuntu jammy/universe amd64 gsfonts all 1:8.11+urwcyr1.0.7~pre44-4.5 [3,120 kB]\n",
            "Get:17 http://archive.ubuntu.com/ubuntu jammy-updates/universe amd64 imagemagick-6.q16 amd64 8:6.9.11.60+dfsg-1.3ubuntu0.22.04.3 [224 kB]\n",
            "Get:18 http://archive.ubuntu.com/ubuntu jammy-updates/universe amd64 imagemagick amd64 8:6.9.11.60+dfsg-1.3ubuntu0.22.04.3 [14.6 kB]\n",
            "Get:19 http://archive.ubuntu.com/ubuntu jammy/main amd64 libdjvulibre-text all 3.5.28-2build2 [50.9 kB]\n",
            "Get:20 http://archive.ubuntu.com/ubuntu jammy/main amd64 libdjvulibre21 amd64 3.5.28-2build2 [624 kB]\n",
            "Get:21 http://archive.ubuntu.com/ubuntu jammy/universe amd64 libjxr0 amd64 1.2~git20170615.f752187-5 [174 kB]\n",
            "Get:22 http://archive.ubuntu.com/ubuntu jammy/universe amd64 libjxr-tools amd64 1.2~git20170615.f752187-5 [16.0 kB]\n",
            "Get:23 http://archive.ubuntu.com/ubuntu jammy/main amd64 libwmflite-0.2-7 amd64 0.2.12-5ubuntu1 [68.9 kB]\n",
            "Get:24 http://archive.ubuntu.com/ubuntu jammy-updates/universe amd64 libmagickcore-6.q16-6-extra amd64 8:6.9.11.60+dfsg-1.3ubuntu0.22.04.3 [70.1 kB]\n",
            "Get:25 http://archive.ubuntu.com/ubuntu jammy/universe amd64 libnetpbm10 amd64 2:10.0-15.4 [59.1 kB]\n",
            "Get:26 http://archive.ubuntu.com/ubuntu jammy/universe amd64 netpbm amd64 2:10.0-15.4 [1,007 kB]\n",
            "Fetched 25.1 MB in 3s (9,645 kB/s)\n",
            "Selecting previously unselected package fonts-droid-fallback.\n",
            "(Reading database ... 121752 files and directories currently installed.)\n",
            "Preparing to unpack .../00-fonts-droid-fallback_1%3a6.0.1r16-1.1build1_all.deb ...\n",
            "Unpacking fonts-droid-fallback (1:6.0.1r16-1.1build1) ...\n",
            "Selecting previously unselected package libfftw3-double3:amd64.\n",
            "Preparing to unpack .../01-libfftw3-double3_3.3.8-2ubuntu8_amd64.deb ...\n",
            "Unpacking libfftw3-double3:amd64 (3.3.8-2ubuntu8) ...\n",
            "Selecting previously unselected package liblqr-1-0:amd64.\n",
            "Preparing to unpack .../02-liblqr-1-0_0.4.2-2.1_amd64.deb ...\n",
            "Unpacking liblqr-1-0:amd64 (0.4.2-2.1) ...\n",
            "Selecting previously unselected package imagemagick-6-common.\n",
            "Preparing to unpack .../03-imagemagick-6-common_8%3a6.9.11.60+dfsg-1.3ubuntu0.22.04.3_all.deb ...\n",
            "Unpacking imagemagick-6-common (8:6.9.11.60+dfsg-1.3ubuntu0.22.04.3) ...\n",
            "Selecting previously unselected package libmagickcore-6.q16-6:amd64.\n",
            "Preparing to unpack .../04-libmagickcore-6.q16-6_8%3a6.9.11.60+dfsg-1.3ubuntu0.22.04.3_amd64.deb ...\n",
            "Unpacking libmagickcore-6.q16-6:amd64 (8:6.9.11.60+dfsg-1.3ubuntu0.22.04.3) ...\n",
            "Selecting previously unselected package libmagickwand-6.q16-6:amd64.\n",
            "Preparing to unpack .../05-libmagickwand-6.q16-6_8%3a6.9.11.60+dfsg-1.3ubuntu0.22.04.3_amd64.deb ...\n",
            "Unpacking libmagickwand-6.q16-6:amd64 (8:6.9.11.60+dfsg-1.3ubuntu0.22.04.3) ...\n",
            "Selecting previously unselected package poppler-data.\n",
            "Preparing to unpack .../06-poppler-data_0.4.11-1_all.deb ...\n",
            "Unpacking poppler-data (0.4.11-1) ...\n",
            "Selecting previously unselected package fonts-noto-mono.\n",
            "Preparing to unpack .../07-fonts-noto-mono_20201225-1build1_all.deb ...\n",
            "Unpacking fonts-noto-mono (20201225-1build1) ...\n",
            "Selecting previously unselected package fonts-urw-base35.\n",
            "Preparing to unpack .../08-fonts-urw-base35_20200910-1_all.deb ...\n",
            "Unpacking fonts-urw-base35 (20200910-1) ...\n",
            "Selecting previously unselected package libgs9-common.\n",
            "Preparing to unpack .../09-libgs9-common_9.55.0~dfsg1-0ubuntu5.6_all.deb ...\n",
            "Unpacking libgs9-common (9.55.0~dfsg1-0ubuntu5.6) ...\n",
            "Selecting previously unselected package libidn12:amd64.\n",
            "Preparing to unpack .../10-libidn12_1.38-4ubuntu1_amd64.deb ...\n",
            "Unpacking libidn12:amd64 (1.38-4ubuntu1) ...\n",
            "Selecting previously unselected package libijs-0.35:amd64.\n",
            "Preparing to unpack .../11-libijs-0.35_0.35-15build2_amd64.deb ...\n",
            "Unpacking libijs-0.35:amd64 (0.35-15build2) ...\n",
            "Selecting previously unselected package libjbig2dec0:amd64.\n",
            "Preparing to unpack .../12-libjbig2dec0_0.19-3build2_amd64.deb ...\n",
            "Unpacking libjbig2dec0:amd64 (0.19-3build2) ...\n",
            "Selecting previously unselected package libgs9:amd64.\n",
            "Preparing to unpack .../13-libgs9_9.55.0~dfsg1-0ubuntu5.6_amd64.deb ...\n",
            "Unpacking libgs9:amd64 (9.55.0~dfsg1-0ubuntu5.6) ...\n",
            "Selecting previously unselected package ghostscript.\n",
            "Preparing to unpack .../14-ghostscript_9.55.0~dfsg1-0ubuntu5.6_amd64.deb ...\n",
            "Unpacking ghostscript (9.55.0~dfsg1-0ubuntu5.6) ...\n",
            "Selecting previously unselected package gsfonts.\n",
            "Preparing to unpack .../15-gsfonts_1%3a8.11+urwcyr1.0.7~pre44-4.5_all.deb ...\n",
            "Unpacking gsfonts (1:8.11+urwcyr1.0.7~pre44-4.5) ...\n",
            "Selecting previously unselected package imagemagick-6.q16.\n",
            "Preparing to unpack .../16-imagemagick-6.q16_8%3a6.9.11.60+dfsg-1.3ubuntu0.22.04.3_amd64.deb ...\n",
            "Unpacking imagemagick-6.q16 (8:6.9.11.60+dfsg-1.3ubuntu0.22.04.3) ...\n",
            "Selecting previously unselected package imagemagick.\n",
            "Preparing to unpack .../17-imagemagick_8%3a6.9.11.60+dfsg-1.3ubuntu0.22.04.3_amd64.deb ...\n",
            "Unpacking imagemagick (8:6.9.11.60+dfsg-1.3ubuntu0.22.04.3) ...\n",
            "Selecting previously unselected package libdjvulibre-text.\n",
            "Preparing to unpack .../18-libdjvulibre-text_3.5.28-2build2_all.deb ...\n",
            "Unpacking libdjvulibre-text (3.5.28-2build2) ...\n",
            "Selecting previously unselected package libdjvulibre21:amd64.\n",
            "Preparing to unpack .../19-libdjvulibre21_3.5.28-2build2_amd64.deb ...\n",
            "Unpacking libdjvulibre21:amd64 (3.5.28-2build2) ...\n",
            "Selecting previously unselected package libjxr0:amd64.\n",
            "Preparing to unpack .../20-libjxr0_1.2~git20170615.f752187-5_amd64.deb ...\n",
            "Unpacking libjxr0:amd64 (1.2~git20170615.f752187-5) ...\n",
            "Selecting previously unselected package libjxr-tools.\n",
            "Preparing to unpack .../21-libjxr-tools_1.2~git20170615.f752187-5_amd64.deb ...\n",
            "Unpacking libjxr-tools (1.2~git20170615.f752187-5) ...\n",
            "Selecting previously unselected package libwmflite-0.2-7:amd64.\n",
            "Preparing to unpack .../22-libwmflite-0.2-7_0.2.12-5ubuntu1_amd64.deb ...\n",
            "Unpacking libwmflite-0.2-7:amd64 (0.2.12-5ubuntu1) ...\n",
            "Selecting previously unselected package libmagickcore-6.q16-6-extra:amd64.\n",
            "Preparing to unpack .../23-libmagickcore-6.q16-6-extra_8%3a6.9.11.60+dfsg-1.3ubuntu0.22.04.3_amd64.deb ...\n",
            "Unpacking libmagickcore-6.q16-6-extra:amd64 (8:6.9.11.60+dfsg-1.3ubuntu0.22.04.3) ...\n",
            "Selecting previously unselected package libnetpbm10.\n",
            "Preparing to unpack .../24-libnetpbm10_2%3a10.0-15.4_amd64.deb ...\n",
            "Unpacking libnetpbm10 (2:10.0-15.4) ...\n",
            "Selecting previously unselected package netpbm.\n",
            "Preparing to unpack .../25-netpbm_2%3a10.0-15.4_amd64.deb ...\n",
            "Unpacking netpbm (2:10.0-15.4) ...\n",
            "Setting up imagemagick-6-common (8:6.9.11.60+dfsg-1.3ubuntu0.22.04.3) ...\n",
            "Setting up fonts-noto-mono (20201225-1build1) ...\n",
            "Setting up libwmflite-0.2-7:amd64 (0.2.12-5ubuntu1) ...\n",
            "Setting up libijs-0.35:amd64 (0.35-15build2) ...\n",
            "Setting up libjxr0:amd64 (1.2~git20170615.f752187-5) ...\n",
            "Setting up libnetpbm10 (2:10.0-15.4) ...\n",
            "Setting up fonts-urw-base35 (20200910-1) ...\n",
            "Setting up poppler-data (0.4.11-1) ...\n",
            "Setting up libjbig2dec0:amd64 (0.19-3build2) ...\n",
            "Setting up gsfonts (1:8.11+urwcyr1.0.7~pre44-4.5) ...\n",
            "Setting up libidn12:amd64 (1.38-4ubuntu1) ...\n",
            "Setting up netpbm (2:10.0-15.4) ...\n",
            "Setting up libfftw3-double3:amd64 (3.3.8-2ubuntu8) ...\n",
            "Setting up liblqr-1-0:amd64 (0.4.2-2.1) ...\n",
            "Setting up fonts-droid-fallback (1:6.0.1r16-1.1build1) ...\n",
            "Setting up libdjvulibre-text (3.5.28-2build2) ...\n",
            "Setting up libgs9-common (9.55.0~dfsg1-0ubuntu5.6) ...\n",
            "Setting up libjxr-tools (1.2~git20170615.f752187-5) ...\n",
            "Setting up libgs9:amd64 (9.55.0~dfsg1-0ubuntu5.6) ...\n",
            "Setting up libdjvulibre21:amd64 (3.5.28-2build2) ...\n",
            "Setting up ghostscript (9.55.0~dfsg1-0ubuntu5.6) ...\n",
            "Setting up libmagickcore-6.q16-6:amd64 (8:6.9.11.60+dfsg-1.3ubuntu0.22.04.3) ...\n",
            "Setting up libmagickwand-6.q16-6:amd64 (8:6.9.11.60+dfsg-1.3ubuntu0.22.04.3) ...\n",
            "Setting up libmagickcore-6.q16-6-extra:amd64 (8:6.9.11.60+dfsg-1.3ubuntu0.22.04.3) ...\n",
            "Setting up imagemagick-6.q16 (8:6.9.11.60+dfsg-1.3ubuntu0.22.04.3) ...\n",
            "update-alternatives: using /usr/bin/compare-im6.q16 to provide /usr/bin/compare (compare) in auto mode\n",
            "update-alternatives: using /usr/bin/compare-im6.q16 to provide /usr/bin/compare-im6 (compare-im6) in auto mode\n",
            "update-alternatives: using /usr/bin/animate-im6.q16 to provide /usr/bin/animate (animate) in auto mode\n",
            "update-alternatives: using /usr/bin/animate-im6.q16 to provide /usr/bin/animate-im6 (animate-im6) in auto mode\n",
            "update-alternatives: using /usr/bin/convert-im6.q16 to provide /usr/bin/convert (convert) in auto mode\n",
            "update-alternatives: using /usr/bin/convert-im6.q16 to provide /usr/bin/convert-im6 (convert-im6) in auto mode\n",
            "update-alternatives: using /usr/bin/composite-im6.q16 to provide /usr/bin/composite (composite) in auto mode\n",
            "update-alternatives: using /usr/bin/composite-im6.q16 to provide /usr/bin/composite-im6 (composite-im6) in auto mode\n",
            "update-alternatives: using /usr/bin/conjure-im6.q16 to provide /usr/bin/conjure (conjure) in auto mode\n",
            "update-alternatives: using /usr/bin/conjure-im6.q16 to provide /usr/bin/conjure-im6 (conjure-im6) in auto mode\n",
            "update-alternatives: using /usr/bin/import-im6.q16 to provide /usr/bin/import (import) in auto mode\n",
            "update-alternatives: using /usr/bin/import-im6.q16 to provide /usr/bin/import-im6 (import-im6) in auto mode\n",
            "update-alternatives: using /usr/bin/identify-im6.q16 to provide /usr/bin/identify (identify) in auto mode\n",
            "update-alternatives: using /usr/bin/identify-im6.q16 to provide /usr/bin/identify-im6 (identify-im6) in auto mode\n",
            "update-alternatives: using /usr/bin/stream-im6.q16 to provide /usr/bin/stream (stream) in auto mode\n",
            "update-alternatives: using /usr/bin/stream-im6.q16 to provide /usr/bin/stream-im6 (stream-im6) in auto mode\n",
            "update-alternatives: using /usr/bin/display-im6.q16 to provide /usr/bin/display (display) in auto mode\n",
            "update-alternatives: using /usr/bin/display-im6.q16 to provide /usr/bin/display-im6 (display-im6) in auto mode\n",
            "update-alternatives: using /usr/bin/montage-im6.q16 to provide /usr/bin/montage (montage) in auto mode\n",
            "update-alternatives: using /usr/bin/montage-im6.q16 to provide /usr/bin/montage-im6 (montage-im6) in auto mode\n",
            "update-alternatives: using /usr/bin/mogrify-im6.q16 to provide /usr/bin/mogrify (mogrify) in auto mode\n",
            "update-alternatives: using /usr/bin/mogrify-im6.q16 to provide /usr/bin/mogrify-im6 (mogrify-im6) in auto mode\n",
            "Setting up imagemagick (8:6.9.11.60+dfsg-1.3ubuntu0.22.04.3) ...\n",
            "Processing triggers for hicolor-icon-theme (0.17-2) ...\n",
            "Processing triggers for libc-bin (2.35-0ubuntu3.4) ...\n",
            "/sbin/ldconfig.real: /usr/local/lib/libtbbbind_2_0.so.3 is not a symbolic link\n",
            "\n",
            "/sbin/ldconfig.real: /usr/local/lib/libtbbmalloc.so.2 is not a symbolic link\n",
            "\n",
            "/sbin/ldconfig.real: /usr/local/lib/libtbbbind.so.3 is not a symbolic link\n",
            "\n",
            "/sbin/ldconfig.real: /usr/local/lib/libtbbmalloc_proxy.so.2 is not a symbolic link\n",
            "\n",
            "/sbin/ldconfig.real: /usr/local/lib/libtbbbind_2_5.so.3 is not a symbolic link\n",
            "\n",
            "/sbin/ldconfig.real: /usr/local/lib/libtbb.so.12 is not a symbolic link\n",
            "\n",
            "Processing triggers for man-db (2.10.2-1) ...\n",
            "Processing triggers for fontconfig (2.13.1-4.2ubuntu5) ...\n"
          ]
        }
      ]
    },
    {
      "cell_type": "code",
      "source": [
        "import moviepy.config as cfg\n",
        "\n",
        "# Replace '/usr/bin/' with the correct path to the ImageMagick binary on Colab\n",
        "cfg.change_settings({'IMAGEMAGICK_BINARY': '/usr/bin/'})\n"
      ],
      "metadata": {
        "id": "bPhD5G9K-FG_"
      },
      "execution_count": 29,
      "outputs": []
    },
    {
      "cell_type": "code",
      "source": [
        "!apt-get install imagemagick\n",
        "!pip install moviepy\n",
        "\n",
        "import moviepy.config as cfg\n",
        "\n",
        "# Replace '/usr/bin/' with the correct path to the ImageMagick binary on Colab\n",
        "cfg.change_settings({'IMAGEMAGICK_BINARY': '/usr/bin/'})\n",
        "\n",
        "from gtts import gTTS\n",
        "from moviepy.editor import *\n",
        "\n",
        "def generate_audio(script, filename='output.mp3', lang='en'):\n",
        "    tts = gTTS(text=script, lang=lang)\n",
        "    tts.save(filename)\n",
        "    return filename\n",
        "\n",
        "def generate_video_from_script(script):\n",
        "    audio_file = generate_audio(script)\n",
        "    txt_clip = TextClip(script, fontsize=70, color='white').set_duration(10)\n",
        "    audio_clip = AudioFileClip(audio_file)\n",
        "    final_clip = CompositeVideoClip([txt_clip.set_audio(audio_clip)])\n",
        "    final_clip.write_videofile(\"output_video.mp4\", fps=24)\n",
        "\n",
        "# Example usage\n",
        "script = \"\"\"\n",
        "This is a sample script for video generation.\n",
        "We are testing the functionality in Google Colab.\n",
        "The generated video will include text and audio.\n",
        "Let's see how it turns out!\n",
        "I hope it works well.\n",
        "\"\"\"\n",
        "\n",
        "generate_video_from_script(script)\n"
      ],
      "metadata": {
        "colab": {
          "base_uri": "https://localhost:8080/",
          "height": 891
        },
        "id": "nZhHOC8p-RFN",
        "outputId": "77be3017-bf1f-4528-e1b5-09e74db30fb9"
      },
      "execution_count": 30,
      "outputs": [
        {
          "output_type": "stream",
          "name": "stdout",
          "text": [
            "Reading package lists... Done\n",
            "Building dependency tree... Done\n",
            "Reading state information... Done\n",
            "imagemagick is already the newest version (8:6.9.11.60+dfsg-1.3ubuntu0.22.04.3).\n",
            "0 upgraded, 0 newly installed, 0 to remove and 38 not upgraded.\n",
            "Requirement already satisfied: moviepy in /usr/local/lib/python3.10/dist-packages (1.0.3)\n",
            "Requirement already satisfied: decorator<5.0,>=4.0.2 in /usr/local/lib/python3.10/dist-packages (from moviepy) (4.4.2)\n",
            "Requirement already satisfied: tqdm<5.0,>=4.11.2 in /usr/local/lib/python3.10/dist-packages (from moviepy) (4.66.2)\n",
            "Requirement already satisfied: requests<3.0,>=2.8.1 in /usr/local/lib/python3.10/dist-packages (from moviepy) (2.31.0)\n",
            "Requirement already satisfied: proglog<=1.0.0 in /usr/local/lib/python3.10/dist-packages (from moviepy) (0.1.10)\n",
            "Requirement already satisfied: numpy>=1.17.3 in /usr/local/lib/python3.10/dist-packages (from moviepy) (1.25.2)\n",
            "Requirement already satisfied: imageio<3.0,>=2.5 in /usr/local/lib/python3.10/dist-packages (from moviepy) (2.31.6)\n",
            "Requirement already satisfied: imageio-ffmpeg>=0.2.0 in /usr/local/lib/python3.10/dist-packages (from moviepy) (0.4.9)\n",
            "Requirement already satisfied: pillow<10.1.0,>=8.3.2 in /usr/local/lib/python3.10/dist-packages (from imageio<3.0,>=2.5->moviepy) (9.4.0)\n",
            "Requirement already satisfied: setuptools in /usr/local/lib/python3.10/dist-packages (from imageio-ffmpeg>=0.2.0->moviepy) (67.7.2)\n",
            "Requirement already satisfied: charset-normalizer<4,>=2 in /usr/local/lib/python3.10/dist-packages (from requests<3.0,>=2.8.1->moviepy) (3.3.2)\n",
            "Requirement already satisfied: idna<4,>=2.5 in /usr/local/lib/python3.10/dist-packages (from requests<3.0,>=2.8.1->moviepy) (3.6)\n",
            "Requirement already satisfied: urllib3<3,>=1.21.1 in /usr/local/lib/python3.10/dist-packages (from requests<3.0,>=2.8.1->moviepy) (2.0.7)\n",
            "Requirement already satisfied: certifi>=2017.4.17 in /usr/local/lib/python3.10/dist-packages (from requests<3.0,>=2.8.1->moviepy) (2024.2.2)\n"
          ]
        },
        {
          "output_type": "error",
          "ename": "OSError",
          "evalue": "MoviePy Error: creation of None failed because of the following error:\n\n[Errno 13] Permission denied: '/usr/bin/'.\n\n.This error can be due to the fact that ImageMagick is not installed on your computer, or (for Windows users) that you didn't specify the path to the ImageMagick binary in file conf.py, or that the path you specified is incorrect",
          "traceback": [
            "\u001b[0;31m---------------------------------------------------------------------------\u001b[0m",
            "\u001b[0;31mPermissionError\u001b[0m                           Traceback (most recent call last)",
            "\u001b[0;32m/usr/local/lib/python3.10/dist-packages/moviepy/video/VideoClip.py\u001b[0m in \u001b[0;36m__init__\u001b[0;34m(self, txt, filename, size, color, bg_color, fontsize, font, stroke_color, stroke_width, method, kerning, align, interline, tempfilename, temptxt, transparent, remove_temp, print_cmd)\u001b[0m\n\u001b[1;32m   1136\u001b[0m         \u001b[0;32mtry\u001b[0m\u001b[0;34m:\u001b[0m\u001b[0;34m\u001b[0m\u001b[0;34m\u001b[0m\u001b[0m\n\u001b[0;32m-> 1137\u001b[0;31m             \u001b[0msubprocess_call\u001b[0m\u001b[0;34m(\u001b[0m\u001b[0mcmd\u001b[0m\u001b[0;34m,\u001b[0m \u001b[0mlogger\u001b[0m\u001b[0;34m=\u001b[0m\u001b[0;32mNone\u001b[0m\u001b[0;34m)\u001b[0m\u001b[0;34m\u001b[0m\u001b[0;34m\u001b[0m\u001b[0m\n\u001b[0m\u001b[1;32m   1138\u001b[0m         \u001b[0;32mexcept\u001b[0m \u001b[0;34m(\u001b[0m\u001b[0mIOError\u001b[0m\u001b[0;34m,\u001b[0m \u001b[0mOSError\u001b[0m\u001b[0;34m)\u001b[0m \u001b[0;32mas\u001b[0m \u001b[0merr\u001b[0m\u001b[0;34m:\u001b[0m\u001b[0;34m\u001b[0m\u001b[0;34m\u001b[0m\u001b[0m\n",
            "\u001b[0;32m/usr/local/lib/python3.10/dist-packages/moviepy/tools.py\u001b[0m in \u001b[0;36msubprocess_call\u001b[0;34m(cmd, logger, errorprint)\u001b[0m\n\u001b[1;32m     45\u001b[0m \u001b[0;34m\u001b[0m\u001b[0m\n\u001b[0;32m---> 46\u001b[0;31m     \u001b[0mproc\u001b[0m \u001b[0;34m=\u001b[0m \u001b[0msp\u001b[0m\u001b[0;34m.\u001b[0m\u001b[0mPopen\u001b[0m\u001b[0;34m(\u001b[0m\u001b[0mcmd\u001b[0m\u001b[0;34m,\u001b[0m \u001b[0;34m**\u001b[0m\u001b[0mpopen_params\u001b[0m\u001b[0;34m)\u001b[0m\u001b[0;34m\u001b[0m\u001b[0;34m\u001b[0m\u001b[0m\n\u001b[0m\u001b[1;32m     47\u001b[0m \u001b[0;34m\u001b[0m\u001b[0m\n",
            "\u001b[0;32m/usr/lib/python3.10/subprocess.py\u001b[0m in \u001b[0;36m__init__\u001b[0;34m(self, args, bufsize, executable, stdin, stdout, stderr, preexec_fn, close_fds, shell, cwd, env, universal_newlines, startupinfo, creationflags, restore_signals, start_new_session, pass_fds, user, group, extra_groups, encoding, errors, text, umask, pipesize)\u001b[0m\n\u001b[1;32m    970\u001b[0m \u001b[0;34m\u001b[0m\u001b[0m\n\u001b[0;32m--> 971\u001b[0;31m             self._execute_child(args, executable, preexec_fn, close_fds,\n\u001b[0m\u001b[1;32m    972\u001b[0m                                 \u001b[0mpass_fds\u001b[0m\u001b[0;34m,\u001b[0m \u001b[0mcwd\u001b[0m\u001b[0;34m,\u001b[0m \u001b[0menv\u001b[0m\u001b[0;34m,\u001b[0m\u001b[0;34m\u001b[0m\u001b[0;34m\u001b[0m\u001b[0m\n",
            "\u001b[0;32m/usr/lib/python3.10/subprocess.py\u001b[0m in \u001b[0;36m_execute_child\u001b[0;34m(self, args, executable, preexec_fn, close_fds, pass_fds, cwd, env, startupinfo, creationflags, shell, p2cread, p2cwrite, c2pread, c2pwrite, errread, errwrite, restore_signals, gid, gids, uid, umask, start_new_session)\u001b[0m\n\u001b[1;32m   1862\u001b[0m                         \u001b[0merr_msg\u001b[0m \u001b[0;34m=\u001b[0m \u001b[0mos\u001b[0m\u001b[0;34m.\u001b[0m\u001b[0mstrerror\u001b[0m\u001b[0;34m(\u001b[0m\u001b[0merrno_num\u001b[0m\u001b[0;34m)\u001b[0m\u001b[0;34m\u001b[0m\u001b[0;34m\u001b[0m\u001b[0m\n\u001b[0;32m-> 1863\u001b[0;31m                     \u001b[0;32mraise\u001b[0m \u001b[0mchild_exception_type\u001b[0m\u001b[0;34m(\u001b[0m\u001b[0merrno_num\u001b[0m\u001b[0;34m,\u001b[0m \u001b[0merr_msg\u001b[0m\u001b[0;34m,\u001b[0m \u001b[0merr_filename\u001b[0m\u001b[0;34m)\u001b[0m\u001b[0;34m\u001b[0m\u001b[0;34m\u001b[0m\u001b[0m\n\u001b[0m\u001b[1;32m   1864\u001b[0m                 \u001b[0;32mraise\u001b[0m \u001b[0mchild_exception_type\u001b[0m\u001b[0;34m(\u001b[0m\u001b[0merr_msg\u001b[0m\u001b[0;34m)\u001b[0m\u001b[0;34m\u001b[0m\u001b[0;34m\u001b[0m\u001b[0m\n",
            "\u001b[0;31mPermissionError\u001b[0m: [Errno 13] Permission denied: '/usr/bin/'",
            "\nDuring handling of the above exception, another exception occurred:\n",
            "\u001b[0;31mOSError\u001b[0m                                   Traceback (most recent call last)",
            "\u001b[0;32m<ipython-input-30-de586c776956>\u001b[0m in \u001b[0;36m<cell line: 33>\u001b[0;34m()\u001b[0m\n\u001b[1;32m     31\u001b[0m \"\"\"\n\u001b[1;32m     32\u001b[0m \u001b[0;34m\u001b[0m\u001b[0m\n\u001b[0;32m---> 33\u001b[0;31m \u001b[0mgenerate_video_from_script\u001b[0m\u001b[0;34m(\u001b[0m\u001b[0mscript\u001b[0m\u001b[0;34m)\u001b[0m\u001b[0;34m\u001b[0m\u001b[0;34m\u001b[0m\u001b[0m\n\u001b[0m",
            "\u001b[0;32m<ipython-input-30-de586c776956>\u001b[0m in \u001b[0;36mgenerate_video_from_script\u001b[0;34m(script)\u001b[0m\n\u001b[1;32m     17\u001b[0m \u001b[0;32mdef\u001b[0m \u001b[0mgenerate_video_from_script\u001b[0m\u001b[0;34m(\u001b[0m\u001b[0mscript\u001b[0m\u001b[0;34m)\u001b[0m\u001b[0;34m:\u001b[0m\u001b[0;34m\u001b[0m\u001b[0;34m\u001b[0m\u001b[0m\n\u001b[1;32m     18\u001b[0m     \u001b[0maudio_file\u001b[0m \u001b[0;34m=\u001b[0m \u001b[0mgenerate_audio\u001b[0m\u001b[0;34m(\u001b[0m\u001b[0mscript\u001b[0m\u001b[0;34m)\u001b[0m\u001b[0;34m\u001b[0m\u001b[0;34m\u001b[0m\u001b[0m\n\u001b[0;32m---> 19\u001b[0;31m     \u001b[0mtxt_clip\u001b[0m \u001b[0;34m=\u001b[0m \u001b[0mTextClip\u001b[0m\u001b[0;34m(\u001b[0m\u001b[0mscript\u001b[0m\u001b[0;34m,\u001b[0m \u001b[0mfontsize\u001b[0m\u001b[0;34m=\u001b[0m\u001b[0;36m70\u001b[0m\u001b[0;34m,\u001b[0m \u001b[0mcolor\u001b[0m\u001b[0;34m=\u001b[0m\u001b[0;34m'white'\u001b[0m\u001b[0;34m)\u001b[0m\u001b[0;34m.\u001b[0m\u001b[0mset_duration\u001b[0m\u001b[0;34m(\u001b[0m\u001b[0;36m10\u001b[0m\u001b[0;34m)\u001b[0m\u001b[0;34m\u001b[0m\u001b[0;34m\u001b[0m\u001b[0m\n\u001b[0m\u001b[1;32m     20\u001b[0m     \u001b[0maudio_clip\u001b[0m \u001b[0;34m=\u001b[0m \u001b[0mAudioFileClip\u001b[0m\u001b[0;34m(\u001b[0m\u001b[0maudio_file\u001b[0m\u001b[0;34m)\u001b[0m\u001b[0;34m\u001b[0m\u001b[0;34m\u001b[0m\u001b[0m\n\u001b[1;32m     21\u001b[0m     \u001b[0mfinal_clip\u001b[0m \u001b[0;34m=\u001b[0m \u001b[0mCompositeVideoClip\u001b[0m\u001b[0;34m(\u001b[0m\u001b[0;34m[\u001b[0m\u001b[0mtxt_clip\u001b[0m\u001b[0;34m.\u001b[0m\u001b[0mset_audio\u001b[0m\u001b[0;34m(\u001b[0m\u001b[0maudio_clip\u001b[0m\u001b[0;34m)\u001b[0m\u001b[0;34m]\u001b[0m\u001b[0;34m)\u001b[0m\u001b[0;34m\u001b[0m\u001b[0;34m\u001b[0m\u001b[0m\n",
            "\u001b[0;32m/usr/local/lib/python3.10/dist-packages/moviepy/video/VideoClip.py\u001b[0m in \u001b[0;36m__init__\u001b[0;34m(self, txt, filename, size, color, bg_color, fontsize, font, stroke_color, stroke_width, method, kerning, align, interline, tempfilename, temptxt, transparent, remove_temp, print_cmd)\u001b[0m\n\u001b[1;32m   1144\u001b[0m                         \u001b[0;34m\"ImageMagick binary in file conf.py, or that the path \"\u001b[0m\u001b[0;34m\u001b[0m\u001b[0;34m\u001b[0m\u001b[0m\n\u001b[1;32m   1145\u001b[0m                         \"you specified is incorrect\"))\n\u001b[0;32m-> 1146\u001b[0;31m             \u001b[0;32mraise\u001b[0m \u001b[0mIOError\u001b[0m\u001b[0;34m(\u001b[0m\u001b[0merror\u001b[0m\u001b[0;34m)\u001b[0m\u001b[0;34m\u001b[0m\u001b[0;34m\u001b[0m\u001b[0m\n\u001b[0m\u001b[1;32m   1147\u001b[0m \u001b[0;34m\u001b[0m\u001b[0m\n\u001b[1;32m   1148\u001b[0m         \u001b[0mImageClip\u001b[0m\u001b[0;34m.\u001b[0m\u001b[0m__init__\u001b[0m\u001b[0;34m(\u001b[0m\u001b[0mself\u001b[0m\u001b[0;34m,\u001b[0m \u001b[0mtempfilename\u001b[0m\u001b[0;34m,\u001b[0m \u001b[0mtransparent\u001b[0m\u001b[0;34m=\u001b[0m\u001b[0mtransparent\u001b[0m\u001b[0;34m)\u001b[0m\u001b[0;34m\u001b[0m\u001b[0;34m\u001b[0m\u001b[0m\n",
            "\u001b[0;31mOSError\u001b[0m: MoviePy Error: creation of None failed because of the following error:\n\n[Errno 13] Permission denied: '/usr/bin/'.\n\n.This error can be due to the fact that ImageMagick is not installed on your computer, or (for Windows users) that you didn't specify the path to the ImageMagick binary in file conf.py, or that the path you specified is incorrect"
          ]
        }
      ]
    },
    {
      "cell_type": "code",
      "source": [],
      "metadata": {
        "id": "W3sROzFC-TQt"
      },
      "execution_count": null,
      "outputs": []
    }
  ]
}